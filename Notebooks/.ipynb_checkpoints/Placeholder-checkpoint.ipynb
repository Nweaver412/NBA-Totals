{
 "cells": [
  {
   "cell_type": "code",
   "execution_count": 1,
   "metadata": {},
   "outputs": [
    {
     "name": "stdout",
     "output_type": "stream",
     "text": [
      "Data for 2017 written to nba_box_scores_2017.csv\n",
      "Data for 2018 written to nba_box_scores_2018.csv\n",
      "Data for 2019 written to nba_box_scores_2019.csv\n",
      "Data for 2020 written to nba_box_scores_2020.csv\n",
      "Data for 2021 written to nba_box_scores_2021.csv\n",
      "Data for 2022 written to nba_box_scores_2022.csv\n",
      "Data for 2023 written to nba_box_scores_2023.csv\n",
      "Data for 2024 written to nba_box_scores_2024.csv\n"
     ]
    }
   ],
   "source": [
    "import requests\n",
    "from bs4 import BeautifulSoup\n",
    "import csv\n",
    "from datetime import datetime\n",
    "\n",
    "def scrape_box_scores(url):\n",
    "    response = requests.get(url)\n",
    "    soup = BeautifulSoup(response.content, 'html.parser')\n",
    "\n",
    "    # Extract relevant information from the soup object\n",
    "    # (e.g., player names, points scored, etc.)\n",
    "\n",
    "    # Create a list to store the data\n",
    "    data = []\n",
    "\n",
    "    # Iterate through the data and append it to the list\n",
    "    for row in soup.find_all('tr'):\n",
    "        # Extract data from each row and append to the list\n",
    "        row_data = [cell.text.strip() for cell in row.find_all('td')]\n",
    "        data.append(row_data)\n",
    "\n",
    "    return data\n",
    "\n",
    "def write_to_csv(data, filename):\n",
    "    with open(filename, 'w', newline='') as csvfile:\n",
    "        csv_writer = csv.writer(csvfile)\n",
    "        csv_writer.writerows(data)\n",
    "\n",
    "def main():\n",
    "    base_url = \"https://www.nba.com/stats/teams/boxscores-traditional\"\n",
    "    start_year = 2017\n",
    "    current_year = datetime.now().year\n",
    "\n",
    "    for year in range(start_year, current_year + 1):\n",
    "        url = f\"{base_url}{year}\"\n",
    "        box_score_data = scrape_box_scores(url)\n",
    "        filename = f\"nba_box_scores_{year}.csv\"\n",
    "        write_to_csv(box_score_data, filename)\n",
    "        print(f\"Data for {year} written to {filename}\")\n",
    "\n",
    "if __name__ == \"__main__\":\n",
    "    main()"
   ]
  },
  {
   "cell_type": "code",
   "execution_count": null,
   "metadata": {},
   "outputs": [],
   "source": []
  }
 ],
 "metadata": {
  "kernelspec": {
   "display_name": "Python 3 (ipykernel)",
   "language": "python",
   "name": "python3"
  },
  "language_info": {
   "codemirror_mode": {
    "name": "ipython",
    "version": 3
   },
   "file_extension": ".py",
   "mimetype": "text/x-python",
   "name": "python",
   "nbconvert_exporter": "python",
   "pygments_lexer": "ipython3",
   "version": "3.9.12"
  }
 },
 "nbformat": 4,
 "nbformat_minor": 2
}
