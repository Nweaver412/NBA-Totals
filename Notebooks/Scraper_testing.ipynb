{
 "cells": [
  {
   "cell_type": "code",
   "execution_count": null,
   "metadata": {},
   "outputs": [
    {
     "ename": "",
     "evalue": "",
     "output_type": "error",
     "traceback": [
      "\u001b[1;31mFailed to start the Kernel. \n",
      "\u001b[1;31mCannot read properties of undefined (reading 'path'). \n",
      "\u001b[1;31mView Jupyter <a href='command:jupyter.viewOutput'>log</a> for further details."
     ]
    }
   ],
   "source": [
    "import requests\n",
    "import csv\n",
    "from datetime import datetime\n",
    "import json\n",
    "\n",
    "def get_season_string(year):\n",
    "    # Generates the season string in the format YYYY-YY (e.g., 2017-18)\n",
    "    return f'{year}-{str(year+1)[-2:]}'\n",
    "\n",
    "def scrape_season_data(season):\n",
    "    # Construct the URL with the given season parameter\n",
    "    url = f\"https://www.nba.com/stats/teams/boxscores-traditional?Season={season}\"\n",
    "    \n",
    "    # Send a request to the URL\n",
    "    response = requests.get(url)\n",
    "    if response.ok:\n",
    "        # Parse the HTML content\n",
    "        soup = BeautifulSoup(response.text, 'html.parser')\n",
    "        \n",
    "        # Find the table you're interested in based on its attributes\n",
    "        # Adjust 'your-table-class' to the actual class of the table containing the box scores\n",
    "        table = soup.find('table', {'class': 'your-table-class'})  # Placeholder class\n",
    "        \n",
    "        # Define the CSV file name dynamically based on the season\n",
    "        csv_file_name = f'nba_box_scores_{season}.csv'\n",
    "        \n",
    "        # Open a CSV file to write the data\n",
    "        with open(csv_file_name, 'w', newline='', encoding='utf-8') as file:\n",
    "            writer = csv.writer(file)\n",
    "            \n",
    "            # Assuming the first row of the table contains headers\n",
    "            headers = [header.text.strip() for header in table.find_all('th')]\n",
    "            writer.writerow(headers)\n",
    "            \n",
    "            # Iterate through each row in the table\n",
    "            for row in table.find_all('tr'):\n",
    "                # Extract text from each cell in the row, stripping whitespace\n",
    "                data = [cell.text.strip() for cell in row.find_all('td')]\n",
    "                if data:\n",
    "                    writer.writerow(data)\n",
    "        print(f\"Data for season {season} successfully written to {csv_file_name}\")\n",
    "    else:\n",
    "        print(f\"Failed to fetch the webpage for season {season}\")\n",
    "\n",
    "# Start from the 2017-18 season up to the current season\n",
    "start_year = 2017\n",
    "current_year = datetime.now().year\n",
    "# Adjust the end year for seasons (e.g., for 2024, the 2023-24 season is the current one)\n",
    "end_year = current_year if datetime.now().month >= 10 else current_year - 1\n",
    "\n",
    "for year in range(start_year, end_year):\n",
    "    season = get_season_string(year)\n",
    "    scrape_season_data(season)\n"
   ]
  },
  {
   "cell_type": "code",
   "execution_count": null,
   "metadata": {},
   "outputs": [
    {
     "ename": "",
     "evalue": "",
     "output_type": "error",
     "traceback": [
      "\u001b[1;31mFailed to start the Kernel. \n",
      "\u001b[1;31mCannot read properties of undefined (reading 'path'). \n",
      "\u001b[1;31mView Jupyter <a href='command:jupyter.viewOutput'>log</a> for further details."
     ]
    }
   ],
   "source": []
  }
 ],
 "metadata": {
  "kernelspec": {
   "display_name": "Python 3 (ipykernel)",
   "language": "python",
   "name": "python3"
  },
  "language_info": {
   "codemirror_mode": {
    "name": "ipython",
    "version": 3
   },
   "file_extension": ".py",
   "mimetype": "text/x-python",
   "name": "python",
   "nbconvert_exporter": "python",
   "pygments_lexer": "ipython3",
   "version": "3.8.18"
  }
 },
 "nbformat": 4,
 "nbformat_minor": 2
}
